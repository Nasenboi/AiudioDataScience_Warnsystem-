{
 "cells": [
  {
   "cell_type": "code",
   "execution_count": 7,
   "id": "9d9ec692",
   "metadata": {},
   "outputs": [],
   "source": [
    "import tensorflow as tf\n",
    "from tensorflow import keras\n",
    "import numpy as np"
   ]
  },
  {
   "cell_type": "markdown",
   "id": "50187a15",
   "metadata": {},
   "source": [
    "Different shapes of Tensors:\n",
    "\n",
    "1D Array:\n",
    "shape (4) : [1, 2, 3, 4]\n",
    "\n",
    "2D Array:\n",
    "shabe (2, 3): [1, 2, 3]\n",
    "              [1, 2, 3]\n",
    "\n",
    "|  /\\ Axis 3 (depth)\n",
    "|  /\n",
    "| /\n",
    "|/----------> Axis1\n",
    "\\/ \n",
    "Axis 0\n",
    "\n",
    "Tensors can be used with:\n",
    "nd-arrays\n",
    "(GPU supports)\n",
    "Computational graphs\n",
    "\n",
    "Tensors are immutable (you can NEVER update a certain Tensor)\n",
    "...unless its a tf.Variable()"
   ]
  },
  {
   "cell_type": "code",
   "execution_count": null,
   "id": "5dfe5f8d",
   "metadata": {},
   "outputs": [],
   "source": [
    "#Scalar tensor\n",
    "x = tf.constant(4, shape=(1))\n",
    "print(x)"
   ]
  },
  {
   "cell_type": "code",
   "execution_count": null,
   "id": "e9d7aab9",
   "metadata": {},
   "outputs": [],
   "source": [
    "#Higher dimensional tensor\n",
    "#Rank 1 tensor: \n",
    "x = tf.constant([1,2,3])\n",
    "\n",
    "#Rank 2 tensor:\n",
    "y = tf.constant([x.numpy(),x.numpy()])\n",
    "\n",
    "print(x)\n",
    "print(y)"
   ]
  },
  {
   "cell_type": "code",
   "execution_count": null,
   "id": "22e41cc6",
   "metadata": {},
   "outputs": [],
   "source": [
    "#Fill tensors with values\n",
    "x = tf.zeros((2,3))\n",
    "\n",
    "y = tf.eye(3)\n",
    "\n",
    "z = tf.random.normal((3,3), mean = 0, stddev=1)\n",
    "\n",
    "print(x)\n",
    "print(y)\n",
    "print(z)"
   ]
  },
  {
   "cell_type": "code",
   "execution_count": null,
   "id": "2b94a9e1",
   "metadata": {},
   "outputs": [],
   "source": [
    "#Cast tensors to other types\n",
    "z = tf.cast(z, dtype='int32')\n",
    "\n",
    "print(z)"
   ]
  },
  {
   "cell_type": "markdown",
   "id": "e0e8e8c9",
   "metadata": {},
   "source": [
    "Operations\n",
    "\n",
    "All operations are element wise\n",
    "possible are:\n",
    "+ (or .add)\n",
    "- (or .substract)\n",
    "* (or .multiply)\n",
    "/ (or .divide)\n",
    "\n",
    "Also possible:\n",
    "exponential: x ** 2\n",
    "matrixmultiplikation: @ ( or .matpul(x,y))\n",
    "\n"
   ]
  },
  {
   "cell_type": "code",
   "execution_count": null,
   "id": "183e39b8",
   "metadata": {},
   "outputs": [],
   "source": [
    "x = tf.constant([1,2,3])\n",
    "y = tf.constant([3,2,1])"
   ]
  },
  {
   "cell_type": "code",
   "execution_count": null,
   "id": "54fd0bbc",
   "metadata": {},
   "outputs": [],
   "source": [
    "z = tf.add(x,y)\n",
    "print(z)"
   ]
  },
  {
   "cell_type": "markdown",
   "id": "a7ec1c4c",
   "metadata": {},
   "source": [
    "Indexing and slicing"
   ]
  },
  {
   "cell_type": "code",
   "execution_count": null,
   "id": "3316053e",
   "metadata": {},
   "outputs": [],
   "source": [
    "#Indexing\n",
    "print(x[0])\n",
    "\n",
    "z = tf.constant([[1,2],[3,4]])\n",
    "print(z[0,:])"
   ]
  },
  {
   "cell_type": "code",
   "execution_count": null,
   "id": "cadd6f3e",
   "metadata": {},
   "outputs": [],
   "source": [
    "#Reshaping\n",
    "\n",
    "z = tf.reshape(z, (4))\n",
    "print(z)"
   ]
  },
  {
   "cell_type": "code",
   "execution_count": null,
   "id": "73526386",
   "metadata": {},
   "outputs": [],
   "source": [
    "#converting\n",
    "\n",
    "z = tf.convert_to_tensor(z.numpy())\n",
    "print(z)"
   ]
  },
  {
   "cell_type": "code",
   "execution_count": null,
   "id": "420a5ba6",
   "metadata": {},
   "outputs": [],
   "source": []
  },
  {
   "cell_type": "markdown",
   "id": "948b8b0a",
   "metadata": {},
   "source": [
    "*Magic*"
   ]
  },
  {
   "cell_type": "markdown",
   "id": "837e858d",
   "metadata": {},
   "source": [
    "Creating a Model with the keras method\n",
    "\n",
    "there are two methods, a class based and keras, keras is more beginner friendly :D"
   ]
  },
  {
   "cell_type": "markdown",
   "id": "db841980",
   "metadata": {},
   "source": [
    "it is good practice to normalize data first\n",
    "\n",
    "x_data = x_data / maxVal\n",
    "\n",
    "the naming should be like this:\n",
    "x_train: All the training inputdata, stored as a tensor\n",
    "y_train: All the goal outputdata, \" \"\n",
    "x/y_test: The Testdata, mabe with the outputvalues y\n"
   ]
  },
  {
   "cell_type": "code",
   "execution_count": 4,
   "id": "5c3ea836",
   "metadata": {},
   "outputs": [
    {
     "name": "stdout",
     "output_type": "stream",
     "text": [
      "Model: \"sequential_1\"\n",
      "_________________________________________________________________\n",
      "Layer (type)                 Output Shape              Param #   \n",
      "=================================================================\n",
      "flatten_1 (Flatten)          (None, 784)               0         \n",
      "_________________________________________________________________\n",
      "dense_2 (Dense)              (None, 128)               100480    \n",
      "_________________________________________________________________\n",
      "dense_3 (Dense)              (None, 10)                1290      \n",
      "=================================================================\n",
      "Total params: 101,770\n",
      "Trainable params: 101,770\n",
      "Non-trainable params: 0\n",
      "_________________________________________________________________\n",
      "None\n"
     ]
    }
   ],
   "source": [
    "#Create the basic model blueprint\n",
    "model = keras.models.Sequential([\n",
    "    #Input layer\n",
    "    keras.layers.Flatten(input_shape=(28,28)),\n",
    "    \n",
    "    #Hidden layer(s) \n",
    "    keras.layers.Dense(128, activation = 'relu'),\n",
    "    \n",
    "    #output layer\n",
    "    keras.layers.Dense(10, activation = 'softmax'),\n",
    "])\n",
    "\n",
    "print(model.summary())"
   ]
  },
  {
   "cell_type": "code",
   "execution_count": 6,
   "id": "6098da7b",
   "metadata": {},
   "outputs": [],
   "source": [
    "#finish the model blueprint with loss and optimisation function\n",
    "loss = keras.losses.SparseCategoricalCrossentropy()\n",
    "optimizer = keras.optimizers.Adam(learning_rate=0.001)\n",
    "metrics = [\"accuracy\"] #what do we wanna keep track of?\n",
    "                      #The string version of this command could cause a bug!!!\n",
    "#Note: the learning rate is a good hyperparameter to tweak\n",
    "#      to make the NN learn at the best / optimal rate not too fast / slow\n",
    "\n",
    "model.compile(loss=loss, optimizer=optimizer, metrics=metrics)"
   ]
  },
  {
   "cell_type": "code",
   "execution_count": null,
   "id": "158c040e",
   "metadata": {},
   "outputs": [],
   "source": [
    "#Now, if we would have data, we could train the NN\n",
    "#just like this:\n",
    "batch_size = 64 #how many things should be loaded to the RAM in one epochcycle\n",
    "epochs = 5      #how many times does a batch repeat\n",
    "verbose = 0     #how much output should be displayed\n",
    "\n",
    "model.fit(x_train, y_train, batch_size=batch_size, epochs=epochs, shuffle=True\n",
    "          , verbose=verbose)"
   ]
  },
  {
   "cell_type": "code",
   "execution_count": null,
   "id": "c992e277",
   "metadata": {},
   "outputs": [],
   "source": [
    "#Next we wanna see how good our model is doing on some test data\n",
    "\n",
    "model.evaluate(x_test, y_test, batch_size=batch_size, verbose=2)"
   ]
  },
  {
   "cell_type": "code",
   "execution_count": null,
   "id": "17491b3c",
   "metadata": {},
   "outputs": [],
   "source": [
    "#At (almost) last we wanna make some real world predictions\n",
    "\n",
    "predictions = model(x_test) # for all the test data\n",
    "predictions = model(x_test[0]) # for just one data\n",
    "\n",
    "pred0 = predictions([0]) # get the (first) prediction\n",
    "label0 = np.argmax(pred0) # get the most likely label\n",
    "print(label0)"
   ]
  },
  {
   "cell_type": "code",
   "execution_count": null,
   "id": "230b0631",
   "metadata": {},
   "outputs": [],
   "source": [
    "#Finally we wanna save our beautiful NN\n",
    "#There are three options for that:\n",
    "\n",
    "#1. safe whole model\n",
    "model.save(r\"nice\\path\\myModel\")\n",
    "#if you add \".h5\" it will be stored too, but differently \n",
    "#otherwise it creates a whole folter lol\n",
    "\n",
    "#2. save only weights\n",
    "model.save_weights(r\"nice\\path\\myModelWeights\")\n",
    "\n",
    "#3. safe only architecture\n",
    "json_string = model.to_json()\n",
    "with open(r\"nice\\path\\myModelWeights\", \"w\") as f:\n",
    "    f.write(json_string)    "
   ]
  },
  {
   "cell_type": "code",
   "execution_count": null,
   "id": "6237d0ab",
   "metadata": {},
   "outputs": [],
   "source": [
    "#Next day we wanna load a model, we do it like this:\n",
    "\n",
    "#1.\n",
    "model = keras.models.load_moddel(r\"nice\\path\\myModel\")\n",
    "\n",
    "#2.\n",
    "model.load_weights(r\"nice\\path\\myModelWeights\")\n",
    "\n",
    "#3.\n",
    "with open(r\"nice\\path\\myModelWeights\", \"r\") as f:\n",
    "    loaded_json_string = f.read()\n",
    "\n",
    "model = keras.models.model_from_json(loaded_json_string)"
   ]
  },
  {
   "cell_type": "markdown",
   "id": "91843013",
   "metadata": {},
   "source": [
    "Special networks:\n",
    "\n",
    "- Convolutional networks CNNs\n",
    "Use 2-XD convolution on images for example\n",
    "the convolution matrix is learned\n",
    "\n",
    "- Recurrent neural nets RNNs\n",
    "Remember some past things to feed as input for the current state, different types, for our case we need the \"many to many\" OR the \"many to one\" approach\n",
    "Important: the number of sequences should be known!"
   ]
  },
  {
   "cell_type": "code",
   "execution_count": null,
   "id": "09f8b9ea",
   "metadata": {},
   "outputs": [],
   "source": [
    "#Convolutional network\n",
    "#...is build like this:\n",
    "model = keras.models.Sequential([\n",
    "    #Input layer\n",
    "    keras.layers.Conv2D(32, (3,3), strides=(1,1), padding=\"valid\", activation=\"relu\", input_shape=\"32,32,3\"),\n",
    "    keras.layers.MaxPool2D((2,2)),\n",
    "    keras.layers.Conv2D(32, 3, strides=(1,1), activation=\"relu\"),\n",
    "    keras.layers.MaxPool2D((2,2)),\n",
    "    #...repeat until happy...\n",
    "    \n",
    "    #Flatten layer: make 1D out of 2D\n",
    "    keras.layers.Flatten(input_shape=(28,28)),\n",
    "    \n",
    "    #Hidden layer(s) \n",
    "    keras.layers.Dense(128, activation = 'relu'),\n",
    "    \n",
    "    #output layer\n",
    "    keras.layers.Dense(10, activation = 'softmax'),\n",
    "])\n",
    "\n",
    "print(model.summary())"
   ]
  },
  {
   "cell_type": "code",
   "execution_count": null,
   "id": "044b0bbd",
   "metadata": {},
   "outputs": [],
   "source": [
    "#Recurrent network\n",
    "#...is build like this:\n",
    "model = keras.models.Sequential()\n",
    "\n"
   ]
  }
 ],
 "metadata": {
  "kernelspec": {
   "display_name": "AudioDataEnv",
   "language": "python",
   "name": "audiodataenv"
  },
  "language_info": {
   "codemirror_mode": {
    "name": "ipython",
    "version": 3
   },
   "file_extension": ".py",
   "mimetype": "text/x-python",
   "name": "python",
   "nbconvert_exporter": "python",
   "pygments_lexer": "ipython3",
   "version": "3.9.13"
  }
 },
 "nbformat": 4,
 "nbformat_minor": 5
}
