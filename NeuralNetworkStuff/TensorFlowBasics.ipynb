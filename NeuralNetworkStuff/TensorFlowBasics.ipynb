{
 "cells": [
  {
   "cell_type": "code",
   "execution_count": 3,
   "id": "9d9ec692",
   "metadata": {},
   "outputs": [],
   "source": [
    "import tensorflow as tf\n",
    "from tensorflow import keras\n",
    "import numpy as np"
   ]
  },
  {
   "cell_type": "markdown",
   "id": "50187a15",
   "metadata": {},
   "source": [
    "Different shapes of Tensors:\n",
    "\n",
    "1D Array:\n",
    "shape (4) : [1, 2, 3, 4]\n",
    "\n",
    "2D Array:\n",
    "shabe (2, 3): [1, 2, 3]\n",
    "              [1, 2, 3]\n",
    "\n",
    "|  /\\ Axis 3 (depth)\n",
    "|  /\n",
    "| /\n",
    "|/----------> Axis1\n",
    "\\/ \n",
    "Axis 0\n",
    "\n",
    "Tensors can be used with:\n",
    "nd-arrays\n",
    "(GPU supports)\n",
    "Computational graphs\n",
    "\n",
    "Tensors are immutable (you can NEVER update a certain Tensor)\n",
    "...unless its a tf.Variable()"
   ]
  },
  {
   "cell_type": "code",
   "execution_count": 4,
   "id": "5dfe5f8d",
   "metadata": {},
   "outputs": [
    {
     "name": "stdout",
     "output_type": "stream",
     "text": [
      "tf.Tensor([4], shape=(1,), dtype=int32)\n"
     ]
    },
    {
     "name": "stderr",
     "output_type": "stream",
     "text": [
      "2023-03-09 16:23:17.418273: I tensorflow/core/platform/cpu_feature_guard.cc:193] This TensorFlow binary is optimized with oneAPI Deep Neural Network Library (oneDNN) to use the following CPU instructions in performance-critical operations:  SSE4.1 SSE4.2 AVX\n",
      "To enable them in other operations, rebuild TensorFlow with the appropriate compiler flags.\n"
     ]
    }
   ],
   "source": [
    "#Scalar tensor\n",
    "x = tf.constant(4, shape=(1))\n",
    "print(x)"
   ]
  },
  {
   "cell_type": "code",
   "execution_count": 5,
   "id": "e9d7aab9",
   "metadata": {},
   "outputs": [
    {
     "name": "stdout",
     "output_type": "stream",
     "text": [
      "tf.Tensor([1 2 3], shape=(3,), dtype=int32)\n",
      "tf.Tensor(\n",
      "[[1 2 3]\n",
      " [1 2 3]], shape=(2, 3), dtype=int32)\n"
     ]
    }
   ],
   "source": [
    "#Higher dimensional tensor\n",
    "#Rank 1 tensor: \n",
    "x = tf.constant([1,2,3])\n",
    "\n",
    "#Rank 2 tensor:\n",
    "y = tf.constant([x.numpy(),x.numpy()])\n",
    "\n",
    "print(x)\n",
    "print(y)"
   ]
  },
  {
   "cell_type": "code",
   "execution_count": 6,
   "id": "22e41cc6",
   "metadata": {},
   "outputs": [
    {
     "name": "stdout",
     "output_type": "stream",
     "text": [
      "tf.Tensor(\n",
      "[[0. 0. 0.]\n",
      " [0. 0. 0.]], shape=(2, 3), dtype=float32)\n",
      "tf.Tensor(\n",
      "[[1. 0. 0.]\n",
      " [0. 1. 0.]\n",
      " [0. 0. 1.]], shape=(3, 3), dtype=float32)\n",
      "tf.Tensor(\n",
      "[[-1.3524272   2.6253724  -0.8653361 ]\n",
      " [ 0.7784974  -1.1032395  -0.30458698]\n",
      " [-1.1548123  -1.0111063  -1.4635035 ]], shape=(3, 3), dtype=float32)\n"
     ]
    }
   ],
   "source": [
    "#Fill tensors with values\n",
    "x = tf.zeros((2,3))\n",
    "\n",
    "y = tf.eye(3)\n",
    "\n",
    "z = tf.random.normal((3,3), mean = 0, stddev=1)\n",
    "\n",
    "print(x)\n",
    "print(y)\n",
    "print(z)"
   ]
  },
  {
   "cell_type": "code",
   "execution_count": 7,
   "id": "2b94a9e1",
   "metadata": {},
   "outputs": [
    {
     "name": "stdout",
     "output_type": "stream",
     "text": [
      "tf.Tensor(\n",
      "[[-1  2  0]\n",
      " [ 0 -1  0]\n",
      " [-1 -1 -1]], shape=(3, 3), dtype=int32)\n"
     ]
    }
   ],
   "source": [
    "#Cast tensors to other types\n",
    "z = tf.cast(z, dtype='int32')\n",
    "\n",
    "print(z)"
   ]
  },
  {
   "cell_type": "markdown",
   "id": "e0e8e8c9",
   "metadata": {},
   "source": [
    "Operations\n",
    "\n",
    "All operations are element wise\n",
    "possible are:\n",
    "+ (or .add)\n",
    "- (or .substract)\n",
    "* (or .multiply)\n",
    "/ (or .divide)\n",
    "\n",
    "Also possible:\n",
    "exponential: x ** 2\n",
    "matrixmultiplikation: @ ( or .matpul(x,y))\n",
    "\n"
   ]
  },
  {
   "cell_type": "code",
   "execution_count": 8,
   "id": "183e39b8",
   "metadata": {},
   "outputs": [],
   "source": [
    "x = tf.constant([1,2,3])\n",
    "y = tf.constant([3,2,1])"
   ]
  },
  {
   "cell_type": "code",
   "execution_count": 9,
   "id": "54fd0bbc",
   "metadata": {},
   "outputs": [
    {
     "name": "stdout",
     "output_type": "stream",
     "text": [
      "tf.Tensor([4 4 4], shape=(3,), dtype=int32)\n"
     ]
    }
   ],
   "source": [
    "z = tf.add(x,y)\n",
    "print(z)"
   ]
  },
  {
   "cell_type": "markdown",
   "id": "a7ec1c4c",
   "metadata": {},
   "source": [
    "Indexing and slicing"
   ]
  },
  {
   "cell_type": "code",
   "execution_count": 10,
   "id": "3316053e",
   "metadata": {},
   "outputs": [
    {
     "name": "stdout",
     "output_type": "stream",
     "text": [
      "tf.Tensor(1, shape=(), dtype=int32)\n",
      "tf.Tensor([1 2], shape=(2,), dtype=int32)\n"
     ]
    }
   ],
   "source": [
    "#Indexing\n",
    "print(x[0])\n",
    "\n",
    "z = tf.constant([[1,2],[3,4]])\n",
    "print(z[0,:])"
   ]
  },
  {
   "cell_type": "code",
   "execution_count": 11,
   "id": "cadd6f3e",
   "metadata": {},
   "outputs": [
    {
     "name": "stdout",
     "output_type": "stream",
     "text": [
      "tf.Tensor([1 2 3 4], shape=(4,), dtype=int32)\n"
     ]
    }
   ],
   "source": [
    "#Reshaping\n",
    "\n",
    "z = tf.reshape(z, (4))\n",
    "print(z)"
   ]
  },
  {
   "cell_type": "code",
   "execution_count": 12,
   "id": "73526386",
   "metadata": {},
   "outputs": [
    {
     "name": "stdout",
     "output_type": "stream",
     "text": [
      "tf.Tensor([1 2 3 4], shape=(4,), dtype=int32)\n"
     ]
    }
   ],
   "source": [
    "#converting\n",
    "\n",
    "z = tf.convert_to_tensor(z.numpy())\n",
    "print(z)"
   ]
  },
  {
   "cell_type": "code",
   "execution_count": null,
   "id": "420a5ba6",
   "metadata": {},
   "outputs": [],
   "source": []
  },
  {
   "cell_type": "markdown",
   "id": "948b8b0a",
   "metadata": {},
   "source": [
    "*Magic*"
   ]
  },
  {
   "cell_type": "markdown",
   "id": "837e858d",
   "metadata": {},
   "source": [
    "Creating a Model with the keras method\n",
    "\n",
    "there are two methods, a class based and keras, keras is more beginner friendly :D"
   ]
  },
  {
   "cell_type": "markdown",
   "id": "db841980",
   "metadata": {},
   "source": [
    "it is good practice to normalize data first\n",
    "\n",
    "x_data = x_data / maxVal\n",
    "\n",
    "the naming should be like this:\n",
    "x_train: All the training inputdata, stored as a tensor\n",
    "y_train: All the goal outputdata, \" \"\n",
    "x/y_test: The Testdata, mabe with the outputvalues y\n"
   ]
  },
  {
   "cell_type": "code",
   "execution_count": 13,
   "id": "5c3ea836",
   "metadata": {},
   "outputs": [
    {
     "name": "stdout",
     "output_type": "stream",
     "text": [
      "Model: \"sequential\"\n",
      "_________________________________________________________________\n",
      " Layer (type)                Output Shape              Param #   \n",
      "=================================================================\n",
      " flatten (Flatten)           (None, 784)               0         \n",
      "                                                                 \n",
      " dense (Dense)               (None, 128)               100480    \n",
      "                                                                 \n",
      " dense_1 (Dense)             (None, 10)                1290      \n",
      "                                                                 \n",
      "=================================================================\n",
      "Total params: 101,770\n",
      "Trainable params: 101,770\n",
      "Non-trainable params: 0\n",
      "_________________________________________________________________\n",
      "None\n"
     ]
    }
   ],
   "source": [
    "#Create the basic model blueprint\n",
    "model = keras.models.Sequential([\n",
    "    #Input layer\n",
    "    keras.layers.Flatten(input_shape=(28,28)),\n",
    "    \n",
    "    #Hidden layer(s) \n",
    "    keras.layers.Dense(128, activation = 'relu'),\n",
    "    \n",
    "    #output layer\n",
    "    keras.layers.Dense(10, activation = 'softmax'),\n",
    "])\n",
    "\n",
    "print(model.summary())"
   ]
  },
  {
   "cell_type": "code",
   "execution_count": 14,
   "id": "6098da7b",
   "metadata": {},
   "outputs": [],
   "source": [
    "#finish the model blueprint with loss and optimisation function\n",
    "loss = keras.losses.SparseCategoricalCrossentropy()\n",
    "optimizer = keras.optimizers.Adam(learning_rate=0.001)\n",
    "metrics = [\"accuracy\"] #what do we wanna keep track of?\n",
    "                      #The string version of this command could cause a bug!!!\n",
    "#Note: the learning rate is a good hyperparameter to tweak\n",
    "#      to make the NN learn at the best / optimal rate not too fast / slow\n",
    "\n",
    "model.compile(loss=loss, optimizer=optimizer, metrics=metrics)"
   ]
  },
  {
   "cell_type": "code",
   "execution_count": 16,
   "id": "158c040e",
   "metadata": {},
   "outputs": [
    {
     "ename": "NameError",
     "evalue": "name 'x_train' is not defined",
     "output_type": "error",
     "traceback": [
      "\u001b[0;31m---------------------------------------------------------------------------\u001b[0m",
      "\u001b[0;31mNameError\u001b[0m                                 Traceback (most recent call last)",
      "Cell \u001b[0;32mIn[16], line 7\u001b[0m\n\u001b[1;32m      4\u001b[0m epochs \u001b[39m=\u001b[39m \u001b[39m5\u001b[39m      \u001b[39m#how many times does a batch repeat\u001b[39;00m\n\u001b[1;32m      5\u001b[0m verbose \u001b[39m=\u001b[39m \u001b[39m0\u001b[39m     \u001b[39m#how much output should be displayed\u001b[39;00m\n\u001b[0;32m----> 7\u001b[0m model\u001b[39m.\u001b[39mfit(x_train, y_train, batch_size\u001b[39m=\u001b[39mbatch_size, epochs\u001b[39m=\u001b[39mepochs, shuffle\u001b[39m=\u001b[39m\u001b[39mTrue\u001b[39;00m\n\u001b[1;32m      8\u001b[0m           , verbose\u001b[39m=\u001b[39mverbose)\n",
      "\u001b[0;31mNameError\u001b[0m: name 'x_train' is not defined"
     ]
    }
   ],
   "source": [
    "#Now, if we would have data, we could train the NN\n",
    "#just like this:\n",
    "batch_size = 64 #how many things should be loaded to the RAM in one epochcycle\n",
    "epochs = 5      #how many times does a batch repeat\n",
    "verbose = 0     #how much output should be displayed\n",
    "\n",
    "model.fit(x_train, y_train, batch_size=batch_size, epochs=epochs, shuffle=True\n",
    "          , verbose=verbose)"
   ]
  },
  {
   "cell_type": "code",
   "execution_count": 17,
   "id": "c992e277",
   "metadata": {},
   "outputs": [
    {
     "ename": "NameError",
     "evalue": "name 'x_test' is not defined",
     "output_type": "error",
     "traceback": [
      "\u001b[0;31m---------------------------------------------------------------------------\u001b[0m",
      "\u001b[0;31mNameError\u001b[0m                                 Traceback (most recent call last)",
      "Cell \u001b[0;32mIn[17], line 3\u001b[0m\n\u001b[1;32m      1\u001b[0m \u001b[39m#Next we wanna see how good our model is doing on some test data\u001b[39;00m\n\u001b[0;32m----> 3\u001b[0m model\u001b[39m.\u001b[39mevaluate(x_test, y_test, batch_size\u001b[39m=\u001b[39mbatch_size, verbose\u001b[39m=\u001b[39m\u001b[39m2\u001b[39m)\n",
      "\u001b[0;31mNameError\u001b[0m: name 'x_test' is not defined"
     ]
    }
   ],
   "source": [
    "#Next we wanna see how good our model is doing on some test data\n",
    "\n",
    "model.evaluate(x_test, y_test, batch_size=batch_size, verbose=2)"
   ]
  },
  {
   "cell_type": "code",
   "execution_count": 18,
   "id": "17491b3c",
   "metadata": {},
   "outputs": [
    {
     "ename": "NameError",
     "evalue": "name 'x_test' is not defined",
     "output_type": "error",
     "traceback": [
      "\u001b[0;31m---------------------------------------------------------------------------\u001b[0m",
      "\u001b[0;31mNameError\u001b[0m                                 Traceback (most recent call last)",
      "Cell \u001b[0;32mIn[18], line 3\u001b[0m\n\u001b[1;32m      1\u001b[0m \u001b[39m#At (almost) last we wanna make some real world predictions\u001b[39;00m\n\u001b[0;32m----> 3\u001b[0m predictions \u001b[39m=\u001b[39m model(x_test) \u001b[39m# for all the test data\u001b[39;00m\n\u001b[1;32m      4\u001b[0m predictions \u001b[39m=\u001b[39m model(x_test[\u001b[39m0\u001b[39m]) \u001b[39m# for just one data\u001b[39;00m\n\u001b[1;32m      6\u001b[0m pred0 \u001b[39m=\u001b[39m predictions([\u001b[39m0\u001b[39m]) \u001b[39m# get the (first) prediction\u001b[39;00m\n",
      "\u001b[0;31mNameError\u001b[0m: name 'x_test' is not defined"
     ]
    }
   ],
   "source": [
    "#At (almost) last we wanna make some real world predictions\n",
    "\n",
    "predictions = model(x_test) # for all the test data\n",
    "predictions = model(x_test[0]) # for just one data\n",
    "\n",
    "pred0 = predictions([0]) # get the (first) prediction\n",
    "label0 = np.argmax(pred0) # get the most likely label\n",
    "print(label0)"
   ]
  },
  {
   "cell_type": "code",
   "execution_count": 19,
   "id": "230b0631",
   "metadata": {},
   "outputs": [
    {
     "name": "stdout",
     "output_type": "stream",
     "text": [
      "INFO:tensorflow:Assets written to: nice\\path\\myModel/assets\n"
     ]
    }
   ],
   "source": [
    "#Finally we wanna save our beautiful NN\n",
    "#There are three options for that:\n",
    "\n",
    "#1. safe whole model\n",
    "model.save(r\"nice\\path\\myModel\")\n",
    "#if you add \".h5\" it will be stored too, but differently \n",
    "#otherwise it creates a whole folter lol\n",
    "\n",
    "#2. save only weights\n",
    "model.save_weights(r\"nice\\path\\myModelWeights\")\n",
    "\n",
    "#3. safe only architecture\n",
    "json_string = model.to_json()\n",
    "with open(r\"nice\\path\\myModelWeights\", \"w\") as f:\n",
    "    f.write(json_string)    "
   ]
  },
  {
   "cell_type": "code",
   "execution_count": 20,
   "id": "6237d0ab",
   "metadata": {},
   "outputs": [
    {
     "ename": "AttributeError",
     "evalue": "module 'keras.api._v2.keras.models' has no attribute 'load_moddel'",
     "output_type": "error",
     "traceback": [
      "\u001b[0;31m---------------------------------------------------------------------------\u001b[0m",
      "\u001b[0;31mAttributeError\u001b[0m                            Traceback (most recent call last)",
      "Cell \u001b[0;32mIn[20], line 4\u001b[0m\n\u001b[1;32m      1\u001b[0m \u001b[39m#Next day we wanna load a model, we do it like this:\u001b[39;00m\n\u001b[1;32m      2\u001b[0m \n\u001b[1;32m      3\u001b[0m \u001b[39m#1.\u001b[39;00m\n\u001b[0;32m----> 4\u001b[0m model \u001b[39m=\u001b[39m keras\u001b[39m.\u001b[39;49mmodels\u001b[39m.\u001b[39;49mload_moddel(\u001b[39mr\u001b[39m\u001b[39m\"\u001b[39m\u001b[39mnice\u001b[39m\u001b[39m\\\u001b[39m\u001b[39mpath\u001b[39m\u001b[39m\\\u001b[39m\u001b[39mmyModel\u001b[39m\u001b[39m\"\u001b[39m)\n\u001b[1;32m      6\u001b[0m \u001b[39m#2.\u001b[39;00m\n\u001b[1;32m      7\u001b[0m model\u001b[39m.\u001b[39mload_weights(\u001b[39mr\u001b[39m\u001b[39m\"\u001b[39m\u001b[39mnice\u001b[39m\u001b[39m\\\u001b[39m\u001b[39mpath\u001b[39m\u001b[39m\\\u001b[39m\u001b[39mmyModelWeights\u001b[39m\u001b[39m\"\u001b[39m)\n",
      "\u001b[0;31mAttributeError\u001b[0m: module 'keras.api._v2.keras.models' has no attribute 'load_moddel'"
     ]
    }
   ],
   "source": [
    "#Next day we wanna load a model, we do it like this:\n",
    "\n",
    "#1.\n",
    "model = keras.models.load_moddel(r\"nice\\path\\myModel\")\n",
    "\n",
    "#2.\n",
    "model.load_weights(r\"nice\\path\\myModelWeights\")\n",
    "\n",
    "#3.\n",
    "with open(r\"nice\\path\\myModelWeights\", \"r\") as f:\n",
    "    loaded_json_string = f.read()\n",
    "\n",
    "model = keras.models.model_from_json(loaded_json_string)"
   ]
  },
  {
   "cell_type": "markdown",
   "id": "91843013",
   "metadata": {},
   "source": [
    "Special networks:\n",
    "\n",
    "- Convolutional networks CNNs\n",
    "Use 2-XD convolution on images for example\n",
    "the convolution matrix is learned\n",
    "\n",
    "- Recurrent neural nets RNNs\n",
    "Remember some past things to feed as input for the current state, different types, for our case we need the \"many to many\" OR the \"many to one\" approach\n",
    "Important: the number of sequences should be known!"
   ]
  },
  {
   "cell_type": "code",
   "execution_count": 21,
   "id": "09f8b9ea",
   "metadata": {},
   "outputs": [
    {
     "ename": "TypeError",
     "evalue": "Dimension value must be integer or None or have an __index__ method, got value ''3'' with type '<class 'str'>'",
     "output_type": "error",
     "traceback": [
      "\u001b[0;31m---------------------------------------------------------------------------\u001b[0m",
      "\u001b[0;31mTypeError\u001b[0m                                 Traceback (most recent call last)",
      "Cell \u001b[0;32mIn[21], line 3\u001b[0m\n\u001b[1;32m      1\u001b[0m \u001b[39m#Convolutional network\u001b[39;00m\n\u001b[1;32m      2\u001b[0m \u001b[39m#...is build like this:\u001b[39;00m\n\u001b[0;32m----> 3\u001b[0m model \u001b[39m=\u001b[39m keras\u001b[39m.\u001b[39;49mmodels\u001b[39m.\u001b[39;49mSequential([\n\u001b[1;32m      4\u001b[0m     \u001b[39m#Input layer\u001b[39;49;00m\n\u001b[1;32m      5\u001b[0m     keras\u001b[39m.\u001b[39;49mlayers\u001b[39m.\u001b[39;49mConv2D(\u001b[39m32\u001b[39;49m, (\u001b[39m3\u001b[39;49m,\u001b[39m3\u001b[39;49m), strides\u001b[39m=\u001b[39;49m(\u001b[39m1\u001b[39;49m,\u001b[39m1\u001b[39;49m), padding\u001b[39m=\u001b[39;49m\u001b[39m\"\u001b[39;49m\u001b[39mvalid\u001b[39;49m\u001b[39m\"\u001b[39;49m, activation\u001b[39m=\u001b[39;49m\u001b[39m\"\u001b[39;49m\u001b[39mrelu\u001b[39;49m\u001b[39m\"\u001b[39;49m, input_shape\u001b[39m=\u001b[39;49m\u001b[39m\"\u001b[39;49m\u001b[39m32,32,3\u001b[39;49m\u001b[39m\"\u001b[39;49m),\n\u001b[1;32m      6\u001b[0m     keras\u001b[39m.\u001b[39;49mlayers\u001b[39m.\u001b[39;49mMaxPool2D((\u001b[39m2\u001b[39;49m,\u001b[39m2\u001b[39;49m)),\n\u001b[1;32m      7\u001b[0m     keras\u001b[39m.\u001b[39;49mlayers\u001b[39m.\u001b[39;49mConv2D(\u001b[39m32\u001b[39;49m, \u001b[39m3\u001b[39;49m, strides\u001b[39m=\u001b[39;49m(\u001b[39m1\u001b[39;49m,\u001b[39m1\u001b[39;49m), activation\u001b[39m=\u001b[39;49m\u001b[39m\"\u001b[39;49m\u001b[39mrelu\u001b[39;49m\u001b[39m\"\u001b[39;49m),\n\u001b[1;32m      8\u001b[0m     keras\u001b[39m.\u001b[39;49mlayers\u001b[39m.\u001b[39;49mMaxPool2D((\u001b[39m2\u001b[39;49m,\u001b[39m2\u001b[39;49m)),\n\u001b[1;32m      9\u001b[0m     \u001b[39m#...repeat until happy...\u001b[39;49;00m\n\u001b[1;32m     10\u001b[0m     \n\u001b[1;32m     11\u001b[0m     \u001b[39m#Flatten layer: make 1D out of 2D\u001b[39;49;00m\n\u001b[1;32m     12\u001b[0m     keras\u001b[39m.\u001b[39;49mlayers\u001b[39m.\u001b[39;49mFlatten(input_shape\u001b[39m=\u001b[39;49m(\u001b[39m28\u001b[39;49m,\u001b[39m28\u001b[39;49m)),\n\u001b[1;32m     13\u001b[0m     \n\u001b[1;32m     14\u001b[0m     \u001b[39m#Hidden layer(s) \u001b[39;49;00m\n\u001b[1;32m     15\u001b[0m     keras\u001b[39m.\u001b[39;49mlayers\u001b[39m.\u001b[39;49mDense(\u001b[39m128\u001b[39;49m, activation \u001b[39m=\u001b[39;49m \u001b[39m'\u001b[39;49m\u001b[39mrelu\u001b[39;49m\u001b[39m'\u001b[39;49m),\n\u001b[1;32m     16\u001b[0m     \n\u001b[1;32m     17\u001b[0m     \u001b[39m#output layer\u001b[39;49;00m\n\u001b[1;32m     18\u001b[0m     keras\u001b[39m.\u001b[39;49mlayers\u001b[39m.\u001b[39;49mDense(\u001b[39m10\u001b[39;49m, activation \u001b[39m=\u001b[39;49m \u001b[39m'\u001b[39;49m\u001b[39msoftmax\u001b[39;49m\u001b[39m'\u001b[39;49m),\n\u001b[1;32m     19\u001b[0m ])\n\u001b[1;32m     21\u001b[0m \u001b[39mprint\u001b[39m(model\u001b[39m.\u001b[39msummary())\n",
      "File \u001b[0;32m~/opt/anaconda3/envs/audio_data_science/lib/python3.10/site-packages/tensorflow/python/trackable/base.py:205\u001b[0m, in \u001b[0;36mno_automatic_dependency_tracking.<locals>._method_wrapper\u001b[0;34m(self, *args, **kwargs)\u001b[0m\n\u001b[1;32m    203\u001b[0m \u001b[39mself\u001b[39m\u001b[39m.\u001b[39m_self_setattr_tracking \u001b[39m=\u001b[39m \u001b[39mFalse\u001b[39;00m  \u001b[39m# pylint: disable=protected-access\u001b[39;00m\n\u001b[1;32m    204\u001b[0m \u001b[39mtry\u001b[39;00m:\n\u001b[0;32m--> 205\u001b[0m   result \u001b[39m=\u001b[39m method(\u001b[39mself\u001b[39;49m, \u001b[39m*\u001b[39;49margs, \u001b[39m*\u001b[39;49m\u001b[39m*\u001b[39;49mkwargs)\n\u001b[1;32m    206\u001b[0m \u001b[39mfinally\u001b[39;00m:\n\u001b[1;32m    207\u001b[0m   \u001b[39mself\u001b[39m\u001b[39m.\u001b[39m_self_setattr_tracking \u001b[39m=\u001b[39m previous_value  \u001b[39m# pylint: disable=protected-access\u001b[39;00m\n",
      "File \u001b[0;32m~/opt/anaconda3/envs/audio_data_science/lib/python3.10/site-packages/keras/utils/traceback_utils.py:70\u001b[0m, in \u001b[0;36mfilter_traceback.<locals>.error_handler\u001b[0;34m(*args, **kwargs)\u001b[0m\n\u001b[1;32m     67\u001b[0m     filtered_tb \u001b[39m=\u001b[39m _process_traceback_frames(e\u001b[39m.\u001b[39m__traceback__)\n\u001b[1;32m     68\u001b[0m     \u001b[39m# To get the full stack trace, call:\u001b[39;00m\n\u001b[1;32m     69\u001b[0m     \u001b[39m# `tf.debugging.disable_traceback_filtering()`\u001b[39;00m\n\u001b[0;32m---> 70\u001b[0m     \u001b[39mraise\u001b[39;00m e\u001b[39m.\u001b[39mwith_traceback(filtered_tb) \u001b[39mfrom\u001b[39;00m \u001b[39mNone\u001b[39m\n\u001b[1;32m     71\u001b[0m \u001b[39mfinally\u001b[39;00m:\n\u001b[1;32m     72\u001b[0m     \u001b[39mdel\u001b[39;00m filtered_tb\n",
      "File \u001b[0;32m<string>:3\u001b[0m, in \u001b[0;36mraise_from\u001b[0;34m(value, from_value)\u001b[0m\n",
      "\u001b[0;31mTypeError\u001b[0m: Dimension value must be integer or None or have an __index__ method, got value ''3'' with type '<class 'str'>'"
     ]
    }
   ],
   "source": [
    "#Convolutional network\n",
    "#...is build like this:\n",
    "model = keras.models.Sequential([\n",
    "    #Input layer\n",
    "    keras.layers.Conv2D(32, (3,3), strides=(1,1), padding=\"valid\", activation=\"relu\", input_shape=\"32,32,3\"),\n",
    "    keras.layers.MaxPool2D((2,2)),\n",
    "    keras.layers.Conv2D(32, 3, strides=(1,1), activation=\"relu\"),\n",
    "    keras.layers.MaxPool2D((2,2)),\n",
    "    #...repeat until happy...\n",
    "    \n",
    "    #Flatten layer: make 1D out of 2D\n",
    "    keras.layers.Flatten(input_shape=(28,28)),\n",
    "    \n",
    "    #Hidden layer(s) \n",
    "    keras.layers.Dense(128, activation = 'relu'),\n",
    "    \n",
    "    #output layer\n",
    "    keras.layers.Dense(10, activation = 'softmax'),\n",
    "])\n",
    "\n",
    "print(model.summary())"
   ]
  },
  {
   "cell_type": "code",
   "execution_count": 22,
   "id": "044b0bbd",
   "metadata": {},
   "outputs": [],
   "source": [
    "#Recurrent network\n",
    "#...is build like this:\n",
    "model = keras.models.Sequential()\n",
    "\n"
   ]
  }
 ],
 "metadata": {
  "kernelspec": {
   "display_name": "audio_data_science",
   "language": "python",
   "name": "python3"
  },
  "language_info": {
   "codemirror_mode": {
    "name": "ipython",
    "version": 3
   },
   "file_extension": ".py",
   "mimetype": "text/x-python",
   "name": "python",
   "nbconvert_exporter": "python",
   "pygments_lexer": "ipython3",
   "version": "3.10.8"
  },
  "vscode": {
   "interpreter": {
    "hash": "1885ad2173303a0507687c55f9d9c4301259c04b4cc12922c1715ca1b949c892"
   }
  }
 },
 "nbformat": 4,
 "nbformat_minor": 5
}
