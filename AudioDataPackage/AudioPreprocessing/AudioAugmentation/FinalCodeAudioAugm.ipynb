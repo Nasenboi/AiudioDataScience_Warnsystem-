{
 "cells": [
  {
   "cell_type": "markdown",
   "id": "ccecd913",
   "metadata": {},
   "source": [
    "# Audio augmentation with audiomentations"
   ]
  },
  {
   "cell_type": "code",
   "execution_count": 2,
   "id": "58181d43",
   "metadata": {},
   "outputs": [
    {
     "name": "stdout",
     "output_type": "stream",
     "text": [
      "['Warntag_edited05.wav', 'Warntag_edited10.wav', 'Warntag_edited04.wav', 'Warntag_edited06.wav', 'Warntag_edited07.wav', 'Warntag_edited03.wav', '.DS_Store', 'Warntag_edited02.wav', 'Warntag_edited01.wav', 'Warntag_edited09.wav', 'Warntag_edited08.wav']\n"
     ]
    }
   ],
   "source": [
    "import numpy as np\n",
    "import pandas as pd\n",
    "import matplotlib.pyplot as plt \n",
    "import librosa\n",
    "import librosa.display\n",
    "import librosa as lr\n",
    "import tensorflow as tf\n",
    "import tensorflow_io as tfio\n",
    "import os\n",
    "import soundfile as sf\n",
    "from glob import glob\n",
    "\n",
    "#audio_file = \"/Users/nickjonas/Desktop/Aufnahmen für Uni/TestAugmentedGuitar/ReadAudio/ZOOM0020_LR_edited.wav\"\n",
    "audio_path = \"/Users/nickjonas/Downloads/Aufnahmen für Uni/AugmentationFeuerwehr/1stTry mit 15 augm pro sample/AudioAugmREAD\"\n",
    "dest_path = \"/Users/nickjonas/Downloads/Aufnahmen für Uni/AugmentationFeuerwehr/1stTry mit 15 augm pro sample/AudioAugmWRITE/Warntag Alarm\"\n",
    "os.chdir(audio_path)\n",
    "audio_files = os.listdir()\n",
    "#y, sr = librosa.load(audio_file, sr=44100)\n",
    "#time = np.arange(0, len(y))/sr\n",
    "print(audio_files)"
   ]
  },
  {
   "cell_type": "code",
   "execution_count": 3,
   "id": "a140cde6",
   "metadata": {},
   "outputs": [
    {
     "name": "stderr",
     "output_type": "stream",
     "text": [
      "/Users/nickjonas/opt/anaconda3/envs/audio_data_science/lib/python3.10/site-packages/librosa/util/decorators.py:88: UserWarning: PySoundFile failed. Trying audioread instead.\n",
      "  return f(*args, **kwargs)\n"
     ]
    },
    {
     "name": "stdout",
     "output_type": "stream",
     "text": [
      "Nope\n"
     ]
    }
   ],
   "source": [
    "from audiomentations import Compose, PitchShift, AirAbsorption, AddGaussianNoise, HighPassFilter, ClippingDistortion, LowPassFilter  \n",
    "\n",
    "for audio_file in audio_files:\n",
    "    try:\n",
    "        audio_file_path = os.path.join(audio_path, audio_file)\n",
    "        y, sr = librosa.load(audio_file_path, sr=44100)\n",
    "        time = np.arange(0, len(y))/sr\n",
    "\n",
    "        count = -1 #counts whole code (for variety of augmentations)\n",
    "        currentLoop = 0 #counts filename change\n",
    "        while count <= 15:\n",
    "\n",
    "            augment = Compose([\n",
    "                \n",
    "                PitchShift(min_semitones=-4, max_semitones=4, p=0.5),\n",
    "                AirAbsorption(min_temperature=10.0, max_temperature=20.0, min_humidity=50.0, max_humidity=90.0, min_distance=1.0, max_distance=15.0, p=0.5),\n",
    "                AddGaussianNoise(min_amplitude=0.001, max_amplitude=0.015, p=0.5),\n",
    "                HighPassFilter(min_cutoff_freq=90.0, max_cutoff_freq=150.0, min_rolloff=12., max_rolloff=24., zero_phase=False, p=0.5),\n",
    "                ClippingDistortion(min_percentile_threshold=0, max_percentile_threshold=40, p=0.5),\n",
    "                LowPassFilter(min_cutoff_freq=2000.0, max_cutoff_freq=7500.0, min_rolloff=12., max_rolloff=24., zero_phase=False, p=0.5),\n",
    "            ])\n",
    "\n",
    "            if __name__ == \"__name__\":\n",
    "                y, sr = librosa.load(audio_file, sr=44100)\n",
    "            # Augment/transform/perturb the audio data\n",
    "            augmented_y = augment(y, sr)\n",
    "\n",
    "            while currentLoop < count: #current loop only counts up if its smaller than count (so it waits for the next augmentation and then changes the filename)\n",
    "                currentLoop = currentLoop + 1\n",
    "                filename = os.path.join(dest_path, audio_file)\n",
    "                filename += str(currentLoop) + \".wav\"\n",
    "                sf.write (filename, augmented_y, sr)\n",
    "            count = count + 1\n",
    "    except:\n",
    "        print(\"Nope\")    \n",
    "        \n",
    "# Author: Nick Jonas Kuhoff"
   ]
  }
 ],
 "metadata": {
  "kernelspec": {
   "display_name": "audio_data_science",
   "language": "python",
   "name": "python3"
  },
  "language_info": {
   "codemirror_mode": {
    "name": "ipython",
    "version": 3
   },
   "file_extension": ".py",
   "mimetype": "text/x-python",
   "name": "python",
   "nbconvert_exporter": "python",
   "pygments_lexer": "ipython3",
   "version": "3.10.8"
  },
  "vscode": {
   "interpreter": {
    "hash": "1885ad2173303a0507687c55f9d9c4301259c04b4cc12922c1715ca1b949c892"
   }
  }
 },
 "nbformat": 4,
 "nbformat_minor": 5
}
